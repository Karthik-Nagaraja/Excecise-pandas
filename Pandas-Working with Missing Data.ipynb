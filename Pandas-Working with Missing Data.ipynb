{
 "cells": [
  {
   "cell_type": "code",
   "execution_count": 1,
   "metadata": {
    "collapsed": false
   },
   "outputs": [
    {
     "data": {
      "text/html": [
       "<div>\n",
       "<table border=\"1\" class=\"dataframe\">\n",
       "  <thead>\n",
       "    <tr style=\"text-align: right;\">\n",
       "      <th></th>\n",
       "      <th>pclass</th>\n",
       "      <th>survived</th>\n",
       "      <th>name</th>\n",
       "      <th>sex</th>\n",
       "      <th>age</th>\n",
       "      <th>sibsp</th>\n",
       "      <th>parch</th>\n",
       "      <th>ticket</th>\n",
       "      <th>fare</th>\n",
       "      <th>cabin</th>\n",
       "      <th>embarked</th>\n",
       "      <th>boat</th>\n",
       "      <th>body</th>\n",
       "      <th>home.dest</th>\n",
       "    </tr>\n",
       "  </thead>\n",
       "  <tbody>\n",
       "    <tr>\n",
       "      <th>0</th>\n",
       "      <td>1.0</td>\n",
       "      <td>1.0</td>\n",
       "      <td>Allen, Miss. Elisabeth Walton</td>\n",
       "      <td>female</td>\n",
       "      <td>29.0000</td>\n",
       "      <td>0.0</td>\n",
       "      <td>0.0</td>\n",
       "      <td>24160</td>\n",
       "      <td>211.3375</td>\n",
       "      <td>B5</td>\n",
       "      <td>S</td>\n",
       "      <td>2</td>\n",
       "      <td>NaN</td>\n",
       "      <td>St Louis, MO</td>\n",
       "    </tr>\n",
       "    <tr>\n",
       "      <th>1</th>\n",
       "      <td>1.0</td>\n",
       "      <td>1.0</td>\n",
       "      <td>Allison, Master. Hudson Trevor</td>\n",
       "      <td>male</td>\n",
       "      <td>0.9167</td>\n",
       "      <td>1.0</td>\n",
       "      <td>2.0</td>\n",
       "      <td>113781</td>\n",
       "      <td>151.5500</td>\n",
       "      <td>C22 C26</td>\n",
       "      <td>S</td>\n",
       "      <td>11</td>\n",
       "      <td>NaN</td>\n",
       "      <td>Montreal, PQ / Chesterville, ON</td>\n",
       "    </tr>\n",
       "  </tbody>\n",
       "</table>\n",
       "</div>"
      ],
      "text/plain": [
       "   pclass  survived                            name     sex      age  sibsp  \\\n",
       "0     1.0       1.0   Allen, Miss. Elisabeth Walton  female  29.0000    0.0   \n",
       "1     1.0       1.0  Allison, Master. Hudson Trevor    male   0.9167    1.0   \n",
       "\n",
       "   parch  ticket      fare    cabin embarked boat  body  \\\n",
       "0    0.0   24160  211.3375       B5        S    2   NaN   \n",
       "1    2.0  113781  151.5500  C22 C26        S   11   NaN   \n",
       "\n",
       "                         home.dest  \n",
       "0                     St Louis, MO  \n",
       "1  Montreal, PQ / Chesterville, ON  "
      ]
     },
     "execution_count": 1,
     "metadata": {},
     "output_type": "execute_result"
    }
   ],
   "source": [
    "import pandas as pd\n",
    "titanic_survival=pd.read_csv(\"titanic_survival.csv\")\n",
    "titanic_survival.head(2)"
   ]
  },
  {
   "cell_type": "markdown",
   "metadata": {},
   "source": [
    "Finding the Missing Data\n",
    "\n",
    "Missing data can take a few different forms:\n",
    "\n",
    "    In Python, the None keyword and type indicates no value.\n",
    "    The Pandas library uses NaN, which stands for \"not a number\", to indicate a missing value.\n",
    "\n",
    "In general terms, both NaN and None can be called null values.\n",
    "\n",
    "If we want to see which values are NaN, we can use the pandas.isnull() function which takes a pandas series and returns a series of True and False values, the same way that NumPy did when we compared arrays."
   ]
  },
  {
   "cell_type": "code",
   "execution_count": 3,
   "metadata": {
    "collapsed": false
   },
   "outputs": [
    {
     "name": "stdout",
     "output_type": "stream",
     "text": [
      "10    47.0\n",
      "11    18.0\n",
      "12    24.0\n",
      "13    26.0\n",
      "14    80.0\n",
      "15     NaN\n",
      "16    24.0\n",
      "17    50.0\n",
      "18    32.0\n",
      "19    36.0\n",
      "20    37.0\n",
      "Name: age, dtype: float64\n",
      "('no of rows which has age with Nan is ', 264)\n"
     ]
    }
   ],
   "source": [
    "age = titanic_survival[\"age\"] # Gives series of column age\n",
    "print(age.loc[10:20])\n",
    "#pd.isnull() takes column series and returns  sseries of True and False values. True if value of column is null ,false otherwise\n",
    "age_is_null=pd.isnull(age) \n",
    "#below returns dataframe whose age column is null\n",
    "age_null_true=age[age_is_null]\n",
    "age_null_count=len(age[age_is_null])\n",
    "print('no of rows which has age with Nan is ',age_null_count)"
   ]
  },
  {
   "cell_type": "markdown",
   "metadata": {},
   "source": [
    "So, we know that quite a few values are missing from the \"age\" column, and other columns are missing data too. But why is this a problem?\n",
    "\n",
    "Lets look at a typical approach to calculate the average for the \"age\" column:\n",
    "\n",
    "mean_age = sum(titanic_survival[\"age\"]) / len(titanic_survival[\"age\"])\n",
    "\n",
    "The result of this is that mean_age would be nan. This is because any calculations we do with a null value also result in a null value. This makes sense when you think about it -- how can you add a null value to a known value?\n",
    "\n",
    "Instead, we have to filter out the missing values before we calculate the mean.\n"
   ]
  },
  {
   "cell_type": "code",
   "execution_count": 9,
   "metadata": {
    "collapsed": false
   },
   "outputs": [
    {
     "name": "stdout",
     "output_type": "stream",
     "text": [
      "<class 'pandas.core.series.Series'>\n",
      "0     False\n",
      "1     False\n",
      "2     False\n",
      "3     False\n",
      "4     False\n",
      "5     False\n",
      "6     False\n",
      "7     False\n",
      "8     False\n",
      "9     False\n",
      "10    False\n",
      "11    False\n",
      "12    False\n",
      "13    False\n",
      "14    False\n",
      "15     True\n",
      "Name: age, dtype: bool\n",
      "0    29.0000\n",
      "1     0.9167\n",
      "2     2.0000\n",
      "3    30.0000\n",
      "4    25.0000\n",
      "5    48.0000\n",
      "6    63.0000\n",
      "7    39.0000\n",
      "8    53.0000\n",
      "9    71.0000\n",
      "Name: age, dtype: float64\n",
      "29.8811345124\n"
     ]
    }
   ],
   "source": [
    "age_is_null = pd.isnull(titanic_survival[\"age\"])\n",
    "print(type(age_is_null))\n",
    "print(age_is_null[0:16])\n",
    "good_age=titanic_survival[\"age\"][age_is_null==False]\n",
    "print(good_age.head(10))\n",
    "correct_mean_age=sum(good_age)/len(good_age)\n",
    "print(correct_mean_age)\n"
   ]
  },
  {
   "cell_type": "code",
   "execution_count": 10,
   "metadata": {
    "collapsed": true
   },
   "outputs": [],
   "source": [
    "correct_mean_age = titanic_survival[\"age\"].mean()\n",
    "correct_mean_fare=titanic_survival[\"fare\"].mean()"
   ]
  },
  {
   "cell_type": "code",
   "execution_count": 11,
   "metadata": {
    "collapsed": false
   },
   "outputs": [
    {
     "name": "stdout",
     "output_type": "stream",
     "text": [
      "{1: 87.50899164086687, 2: 21.1791963898917, 3: 13.302888700564957}\n"
     ]
    }
   ],
   "source": [
    "#mean fare for all the class\n",
    "passenger_classes = [1, 2, 3]\n",
    "fares_by_class = {}\n",
    "for classes in passenger_classes:\n",
    "    selected_class=titanic_survival[\"pclass\"]==classes\n",
    "   \n",
    "    selected_row_of_class=titanic_survival[selected_class]\n",
    "    # print(type(selected_row_of_class))\n",
    "    # print (selected_row_of_class.head())\n",
    "    fare_of_selected_row=selected_row_of_class[\"fare\"]\n",
    "    #print(fare_of_selected_row)\n",
    "    #fare_of_selected_row=titanic_survival[selected_class,9]\n",
    "    mean_of_fare_for_class=fare_of_selected_row.mean()\n",
    "    fares_by_class[classes]=mean_of_fare_for_class\n",
    "print(fares_by_class)    \n",
    "    "
   ]
  },
  {
   "cell_type": "markdown",
   "metadata": {},
   "source": [
    "Making Pivot Tables\n",
    "\n",
    "Pivot tables provide an easy way to subset by one column and then apply a calculation like a sum or a mean. \n",
    "Pivot tables first group and then apply a calculation. In the previous eg, we actually made a pivot table manually by grouping by the column \"pclass\" and then calculating the mean of the \"fare\" column for each class.\n",
    "\n",
    "passenger_class_fares = titanic_survival.pivot_table(index=\"pclass\", values=\"fare\", aggfunc=np.mean)\n",
    "\n",
    "The first parameter of the method, index tells the method which column to group by. The second parameter values is the column that we want to apply the calculation to, and aggfunc specifies the calculation we want to perform. The default for the aggfunc parameter is actually the mean, so if we're calculating this we can omit this parameter."
   ]
  },
  {
   "cell_type": "code",
   "execution_count": 13,
   "metadata": {
    "collapsed": false
   },
   "outputs": [
    {
     "data": {
      "text/plain": [
       "pclass\n",
       "1.0    0.619195\n",
       "2.0    0.429603\n",
       "3.0    0.255289\n",
       "Name: survived, dtype: float64"
      ]
     },
     "execution_count": 13,
     "metadata": {},
     "output_type": "execute_result"
    }
   ],
   "source": [
    "#mean survival for all class\n",
    "import numpy as np\n",
    "passenger_survival=titanic_survival.pivot_table(index=\"pclass\",values=\"survived\",aggfunc=np.mean)\n",
    "passenger_survival"
   ]
  },
  {
   "cell_type": "code",
   "execution_count": 15,
   "metadata": {
    "collapsed": false
   },
   "outputs": [
    {
     "data": {
      "text/html": [
       "<div>\n",
       "<table border=\"1\" class=\"dataframe\">\n",
       "  <thead>\n",
       "    <tr style=\"text-align: right;\">\n",
       "      <th></th>\n",
       "      <th>fare</th>\n",
       "      <th>survived</th>\n",
       "    </tr>\n",
       "    <tr>\n",
       "      <th>embarked</th>\n",
       "      <th></th>\n",
       "      <th></th>\n",
       "    </tr>\n",
       "  </thead>\n",
       "  <tbody>\n",
       "    <tr>\n",
       "      <th>C</th>\n",
       "      <td>16830.7922</td>\n",
       "      <td>150.0</td>\n",
       "    </tr>\n",
       "    <tr>\n",
       "      <th>Q</th>\n",
       "      <td>1526.3085</td>\n",
       "      <td>44.0</td>\n",
       "    </tr>\n",
       "    <tr>\n",
       "      <th>S</th>\n",
       "      <td>25033.3862</td>\n",
       "      <td>304.0</td>\n",
       "    </tr>\n",
       "  </tbody>\n",
       "</table>\n",
       "</div>"
      ],
      "text/plain": [
       "                fare  survived\n",
       "embarked                      \n",
       "C         16830.7922     150.0\n",
       "Q          1526.3085      44.0\n",
       "S         25033.3862     304.0"
      ]
     },
     "execution_count": 15,
     "metadata": {},
     "output_type": "execute_result"
    }
   ],
   "source": [
    "#pivot table that calculates the total fares collected (\"fare\") and total number of survivors (\"survived\") for each embarkation port (\"embarked\")\n",
    "port_stats=titanic_survival.pivot_table(index=\"embarked\",values=[\"fare\",\"survived\"],aggfunc=np.sum)\n",
    "port_stats"
   ]
  },
  {
   "cell_type": "markdown",
   "metadata": {},
   "source": [
    "Drop Missing Values\n",
    "\n",
    "We can use the DataFrame.dropna() method on pandas DataFrames to do this. The method will drop any rows that contain missing values.\n",
    "\n",
    "The dropna() method takes an axis parameter, which indicates whether you would like to drop rows or columns. Specifying axis=0 or axis='index' will drop any rows that have null values, while specifying axis=1 or axis='columns' will drop any columns that have null values. We will use 0 and 1 since they're more commonly used, but you can use either.\n",
    "\n",
    "The code below will drop all rows in titanic_survival that have null values.\n",
    "\n",
    "drop_na_rows = titanic_survival.dropna(axis=0)\n"
   ]
  },
  {
   "cell_type": "code",
   "execution_count": 16,
   "metadata": {
    "collapsed": true
   },
   "outputs": [],
   "source": [
    "drop_na_rows = titanic_survival.dropna(axis=0)\n",
    "drop_na_columns=titanic_survival.dropna(axis=1)\n",
    "#using subset clause , we can drop only rows/cols whose column/s having Nan\n",
    "new_titanic_survival=titanic_survival.dropna(axis=0,\n",
    "                                             subset=[\"age\",\"sex\"])"
   ]
  },
  {
   "cell_type": "markdown",
   "metadata": {},
   "source": [
    "Using iloc to Access Rows by Position\n",
    "\n",
    "In previous missions, we have used row labels to select data in pandas using Dataframe.loc[]. These work just like column labels, and can be values like numbers, characters, and strings.\n",
    "\n",
    "Sometimes your dataset will have row labels that are not numbers, or that are not in order. We have sorted the new_titanic_survival dataframe by the \"age\" column from highest to lowest. Here is a preview of the a few of the columns for the first five rows of the data, or the five oldest passengers onboard."
   ]
  },
  {
   "cell_type": "code",
   "execution_count": 17,
   "metadata": {
    "collapsed": true
   },
   "outputs": [],
   "source": [
    "first_five_rows = new_titanic_survival.iloc[0:5]\n",
    "first_ten_rows=new_titanic_survival.iloc[0:10]\n",
    "row_position_fifth=new_titanic_survival.iloc[4]\n",
    "row_index_25=new_titanic_survival.loc[25]"
   ]
  },
  {
   "cell_type": "code",
   "execution_count": 18,
   "metadata": {
    "collapsed": true
   },
   "outputs": [],
   "source": [
    "first_row_first_column = new_titanic_survival.iloc[0,0]\n",
    "all_rows_first_three_columns = new_titanic_survival.iloc[:,0:3]\n",
    "row__index_83_age = new_titanic_survival.loc[83,\"age\"]\n",
    "row_index_1000_pclass = new_titanic_survival.loc[766,\"pclass\"]\n",
    "row_index_1100_age=new_titanic_survival.loc[1100,\"age\"]\n",
    "row_index_25_survived=new_titanic_survival.loc[25,\"survived\"]\n",
    "five_rows_three_cols=new_titanic_survival.iloc[0:5,0:3]"
   ]
  },
  {
   "cell_type": "markdown",
   "metadata": {},
   "source": [
    "Reindexing Rows\n",
    "\n",
    "After we sorted new_titanic_survival by age, the row indexes were no longer sequential. Each row retained its original index from titanic_survival.\n",
    "\n",
    "Sometimes it's useful to reindex, starting from 0. We can use the DataFrame.reset_index() method to do this. By default, the method retains the old index by adding an extra column to the dataframe with the old index values.\n",
    "\n",
    "In this exercise, we don't want to retain the index. Check the documentation to see what parameter you need to add so that we don't retain the old index."
   ]
  },
  {
   "cell_type": "code",
   "execution_count": null,
   "metadata": {
    "collapsed": true
   },
   "outputs": [],
   "source": [
    "titanic_reindexed = new_titanic_survival.reset_index(drop=True)\n",
    "print(titanic_reindexed.iloc[0:5,0:3])"
   ]
  },
  {
   "cell_type": "markdown",
   "metadata": {},
   "source": [
    "Applying a Function to a Row\n",
    "\n"
   ]
  },
  {
   "cell_type": "code",
   "execution_count": 21,
   "metadata": {
    "collapsed": true
   },
   "outputs": [],
   "source": [
    "def is_minor(row):\n",
    "    if row[\"age\"] < 18:\n",
    "        return True\n",
    "    else:\n",
    "        return False\n",
    "\n",
    "minors = titanic_survival.apply(is_minor, axis=1)\n",
    "import pandas as pd\n",
    "\n",
    "def generate_age_label(row):\n",
    "    age = row[\"age\"]\n",
    "    if pd.isnull(age):\n",
    "        return \"unknown\"\n",
    "    elif age < 18:\n",
    "        return \"minor\"\n",
    "    else:\n",
    "        return \"adult\"\n",
    "\n",
    "titanic_survival[\"age_labels\"] = titanic_survival.apply(generate_age_label, axis=1)"
   ]
  },
  {
   "cell_type": "code",
   "execution_count": 23,
   "metadata": {
    "collapsed": false
   },
   "outputs": [
    {
     "name": "stdout",
     "output_type": "stream",
     "text": [
      "age_labels\n",
      "adult      0.387892\n",
      "minor      0.525974\n",
      "unknown    0.277567\n",
      "Name: survived, dtype: float64\n"
     ]
    }
   ],
   "source": [
    "# pivot table to find the probability of survival for each age group\n",
    "import numpy as np\n",
    "age_group_survival=titanic_survival.pivot_table(index=\"age_labels\",values=\"survived\",aggfunc=np.mean)\n",
    "print(age_group_survival)"
   ]
  },
  {
   "cell_type": "code",
   "execution_count": null,
   "metadata": {
    "collapsed": true
   },
   "outputs": [],
   "source": []
  }
 ],
 "metadata": {
  "anaconda-cloud": {},
  "kernelspec": {
   "display_name": "Python [default]",
   "language": "python",
   "name": "python2"
  },
  "language_info": {
   "codemirror_mode": {
    "name": "ipython",
    "version": 2
   },
   "file_extension": ".py",
   "mimetype": "text/x-python",
   "name": "python",
   "nbconvert_exporter": "python",
   "pygments_lexer": "ipython2",
   "version": "2.7.12"
  }
 },
 "nbformat": 4,
 "nbformat_minor": 1
}
