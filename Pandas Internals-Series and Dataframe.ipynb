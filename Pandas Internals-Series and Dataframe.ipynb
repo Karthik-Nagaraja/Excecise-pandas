{
 "cells": [
  {
   "cell_type": "markdown",
   "metadata": {},
   "source": [
    "The three key data structures in pandas are:\n",
    "\n",
    "    Series objects (collections of values)\n",
    "    DataFrames (collections of Series objects)\n",
    "    Panels (collections of DataFrame objects)\n",
    "\n",
    "Series objects use NumPy arrays for fast computation, but add valuable features to them for analyzing data. While NumPy arrays use an integer index, for example, Series objects can use other index types, such as a string index. Series objects also allow for mixed data types, and use the NaN Python value for handling missing values.\n"
   ]
  },
  {
   "cell_type": "code",
   "execution_count": 1,
   "metadata": {
    "collapsed": false
   },
   "outputs": [
    {
     "data": {
      "text/html": [
       "<div>\n",
       "<table border=\"1\" class=\"dataframe\">\n",
       "  <thead>\n",
       "    <tr style=\"text-align: right;\">\n",
       "      <th></th>\n",
       "      <th>FILM</th>\n",
       "      <th>RottenTomatoes</th>\n",
       "      <th>RottenTomatoes_User</th>\n",
       "      <th>Metacritic</th>\n",
       "      <th>Metacritic_User</th>\n",
       "      <th>IMDB</th>\n",
       "      <th>Fandango_Stars</th>\n",
       "      <th>Fandango_Ratingvalue</th>\n",
       "      <th>RT_norm</th>\n",
       "      <th>RT_user_norm</th>\n",
       "      <th>...</th>\n",
       "      <th>IMDB_norm</th>\n",
       "      <th>RT_norm_round</th>\n",
       "      <th>RT_user_norm_round</th>\n",
       "      <th>Metacritic_norm_round</th>\n",
       "      <th>Metacritic_user_norm_round</th>\n",
       "      <th>IMDB_norm_round</th>\n",
       "      <th>Metacritic_user_vote_count</th>\n",
       "      <th>IMDB_user_vote_count</th>\n",
       "      <th>Fandango_votes</th>\n",
       "      <th>Fandango_Difference</th>\n",
       "    </tr>\n",
       "  </thead>\n",
       "  <tbody>\n",
       "    <tr>\n",
       "      <th>0</th>\n",
       "      <td>Avengers: Age of Ultron (2015)</td>\n",
       "      <td>74</td>\n",
       "      <td>86</td>\n",
       "      <td>66</td>\n",
       "      <td>7.1</td>\n",
       "      <td>7.8</td>\n",
       "      <td>5.0</td>\n",
       "      <td>4.5</td>\n",
       "      <td>3.70</td>\n",
       "      <td>4.3</td>\n",
       "      <td>...</td>\n",
       "      <td>3.90</td>\n",
       "      <td>3.5</td>\n",
       "      <td>4.5</td>\n",
       "      <td>3.5</td>\n",
       "      <td>3.5</td>\n",
       "      <td>4.0</td>\n",
       "      <td>1330</td>\n",
       "      <td>271107</td>\n",
       "      <td>14846</td>\n",
       "      <td>0.5</td>\n",
       "    </tr>\n",
       "    <tr>\n",
       "      <th>1</th>\n",
       "      <td>Cinderella (2015)</td>\n",
       "      <td>85</td>\n",
       "      <td>80</td>\n",
       "      <td>67</td>\n",
       "      <td>7.5</td>\n",
       "      <td>7.1</td>\n",
       "      <td>5.0</td>\n",
       "      <td>4.5</td>\n",
       "      <td>4.25</td>\n",
       "      <td>4.0</td>\n",
       "      <td>...</td>\n",
       "      <td>3.55</td>\n",
       "      <td>4.5</td>\n",
       "      <td>4.0</td>\n",
       "      <td>3.5</td>\n",
       "      <td>4.0</td>\n",
       "      <td>3.5</td>\n",
       "      <td>249</td>\n",
       "      <td>65709</td>\n",
       "      <td>12640</td>\n",
       "      <td>0.5</td>\n",
       "    </tr>\n",
       "  </tbody>\n",
       "</table>\n",
       "<p>2 rows × 22 columns</p>\n",
       "</div>"
      ],
      "text/plain": [
       "                             FILM  RottenTomatoes  RottenTomatoes_User  \\\n",
       "0  Avengers: Age of Ultron (2015)              74                   86   \n",
       "1               Cinderella (2015)              85                   80   \n",
       "\n",
       "   Metacritic  Metacritic_User  IMDB  Fandango_Stars  Fandango_Ratingvalue  \\\n",
       "0          66              7.1   7.8             5.0                   4.5   \n",
       "1          67              7.5   7.1             5.0                   4.5   \n",
       "\n",
       "   RT_norm  RT_user_norm         ...           IMDB_norm  RT_norm_round  \\\n",
       "0     3.70           4.3         ...                3.90            3.5   \n",
       "1     4.25           4.0         ...                3.55            4.5   \n",
       "\n",
       "   RT_user_norm_round  Metacritic_norm_round  Metacritic_user_norm_round  \\\n",
       "0                 4.5                    3.5                         3.5   \n",
       "1                 4.0                    3.5                         4.0   \n",
       "\n",
       "   IMDB_norm_round  Metacritic_user_vote_count  IMDB_user_vote_count  \\\n",
       "0              4.0                        1330                271107   \n",
       "1              3.5                         249                 65709   \n",
       "\n",
       "   Fandango_votes  Fandango_Difference  \n",
       "0           14846                  0.5  \n",
       "1           12640                  0.5  \n",
       "\n",
       "[2 rows x 22 columns]"
      ]
     },
     "execution_count": 1,
     "metadata": {},
     "output_type": "execute_result"
    }
   ],
   "source": [
    "import pandas as pd\n",
    "fandango = pd.read_csv('fandango_score_comparison.csv')\n",
    "fandango.head(2)"
   ]
  },
  {
   "cell_type": "markdown",
   "metadata": {},
   "source": [
    "Integer Indexes\n",
    "\n",
    "DataFrames use Series objects to represent columns. When we select a single column from a DataFrame, pandas will return the Series object representing that column. By default, pandas indexes each individual Series object in a DataFrame with the integer data type. Each value in the Series has a unique integer index, or position. Like most Python data structures, the Series object uses 0-indexing. The indexing ranges from 0 to n-1, where n is the number of rows. We can use an integer index to select an individual value in a Series if we know its position.\n",
    "\n",
    "With both NumPy arrays and Series objects, we can pass integer indexes into bracket notation to slice and select values. With Series objects, however, we can also specify custom indexes."
   ]
  },
  {
   "cell_type": "code",
   "execution_count": 2,
   "metadata": {
    "collapsed": false
   },
   "outputs": [
    {
     "name": "stdout",
     "output_type": "stream",
     "text": [
      "0    Avengers: Age of Ultron (2015)\n",
      "1                 Cinderella (2015)\n",
      "2                    Ant-Man (2015)\n",
      "3            Do You Believe? (2015)\n",
      "4     Hot Tub Time Machine 2 (2015)\n",
      "Name: FILM, dtype: object\n",
      "0    74\n",
      "1    85\n",
      "2    80\n",
      "3    18\n",
      "4    14\n",
      "Name: RottenTomatoes, dtype: int64\n"
     ]
    }
   ],
   "source": [
    "fandango = pd.read_csv('fandango_score_comparison.csv')\n",
    "series_film = fandango['FILM']\n",
    "print(series_film[0:5])\n",
    "series_rt = fandango['RottenTomatoes']\n",
    "print(series_rt[0:5])"
   ]
  },
  {
   "cell_type": "markdown",
   "metadata": {},
   "source": [
    "Custom Indexes\n",
    "\n",
    "Both of these Series objects use the same integer indexes. This means that the value at index 5, for example, would describe the same film in both Series objects (The Water Diviner (2015)). To look up information about a specific movie, we would need to know its integer index.\n"
   ]
  },
  {
   "cell_type": "code",
   "execution_count": 10,
   "metadata": {
    "collapsed": false
   },
   "outputs": [
    {
     "data": {
      "text/plain": [
       "The Water Diviner (2015)             63\n",
       "Irrational Man (2015)                42\n",
       "Top Five (2014)                      86\n",
       "Shaun the Sheep Movie (2015)         99\n",
       "Love & Mercy (2015)                  89\n",
       "Far From The Madding Crowd (2015)    84\n",
       "dtype: int64"
      ]
     },
     "execution_count": 10,
     "metadata": {},
     "output_type": "execute_result"
    }
   ],
   "source": [
    "from pandas import Series\n",
    "film_names=series_film.values\n",
    "rt_scores=series_rt.values\n",
    "series_custom=Series(rt_scores,index=film_names)\n",
    "series_custom[['Minions (2015)', 'Leviathan (2014)','Age of Ultron (2015)','Cinderella (2015)']]\n",
    "#indexing also works\n",
    "fiveten = series_custom[5:11]\n",
    "fiveten\n"
   ]
  },
  {
   "cell_type": "markdown",
   "metadata": {},
   "source": [
    "Reindexing\n",
    "\n",
    "Reindexing is the pandas way of modifying the alignment between labels (indexes) and the data (values). The reindex() method allows us to specify a different order for the labels (indexes) in a Series object. This method takes in a list of strings corresponding to the order we'd like for that Series object.\n",
    "\n",
    "We can use the reindex() method to sort series_custom alphabetically by film. To accomplish this, we need to"
   ]
  },
  {
   "cell_type": "code",
   "execution_count": 14,
   "metadata": {
    "collapsed": false
   },
   "outputs": [
    {
     "data": {
      "text/plain": [
       "'71 (2015)                    97\n",
       "5 Flights Up (2015)           52\n",
       "A Little Chaos (2015)         40\n",
       "A Most Violent Year (2014)    90\n",
       "About Elly (2015)             97\n",
       "dtype: int64"
      ]
     },
     "execution_count": 14,
     "metadata": {},
     "output_type": "execute_result"
    }
   ],
   "source": [
    "original_index = series_custom.index \n",
    "#print('original_index is ',original_index)\n",
    "sorted_index = sorted(original_index)\n",
    "#print('sorted_index is',sorted_index)\n",
    "sorted_by_index = series_custom.reindex(sorted_index)\n",
    "sorted_by_index.head(5)"
   ]
  },
  {
   "cell_type": "markdown",
   "metadata": {},
   "source": [
    "Sorting\n",
    "\n",
    "We just learned how to sort a Series object by the index using the reindex() method. This can be cumbersome if we just want to do some quick exploratory data analysis, or reorder by rating instead of film name.\n",
    "\n",
    "To make sorting easier, pandas comes with a sort_index() method that sorts a Series by index, and a sort_values() method that sorts a Series by its values. Since the values representing the Rotten Tomatoes scores are integers, sorting by values will return the data in numerically ascending order (low to high).\n",
    "\n",
    "In both cases, pandas preserves the link between each element's index (film name) and value (score). We call this data alignment, which is a key tenet of pandas that's incredibly important when analyzing data. Pandas allows us to assume the linking will be preserved, unless we specifically change a value or an index.\n"
   ]
  },
  {
   "cell_type": "code",
   "execution_count": 16,
   "metadata": {
    "collapsed": false
   },
   "outputs": [
    {
     "name": "stdout",
     "output_type": "stream",
     "text": [
      "('sorting_by_index is ', '71 (2015)                    97\n",
      "5 Flights Up (2015)           52\n",
      "A Little Chaos (2015)         40\n",
      "A Most Violent Year (2014)    90\n",
      "About Elly (2015)             97\n",
      "dtype: int64)\n",
      "('sorting_by_values is ', Paul Blart: Mall Cop 2 (2015)    5\n",
      "Hitman: Agent 47 (2015)          7\n",
      "Hot Pursuit (2015)               8\n",
      "Fantastic Four (2015)            9\n",
      "Taken 3 (2015)                   9\n",
      "dtype: int64)\n"
     ]
    }
   ],
   "source": [
    "sorting_by_index = series_custom.sort_index()\n",
    "sorting_by_values = series_custom.sort_values()\n",
    "print('sorting_by_index is ',sorting_by_index[0:5])\n",
    "print('sorting_by_values is ',sorting_by_values[0:5])"
   ]
  },
  {
   "cell_type": "code",
   "execution_count": 17,
   "metadata": {
    "collapsed": true
   },
   "outputs": [],
   "source": [
    "#Normalise column 0-100 to 0-5 scale by dividing by 20\n",
    "series_normalized = (series_custom/20)"
   ]
  },
  {
   "cell_type": "code",
   "execution_count": 18,
   "metadata": {
    "collapsed": true
   },
   "outputs": [],
   "source": [
    "criteria_one = series_custom > 50\n",
    "criteria_two = series_custom < 75\n",
    "both_criteria = series_custom[criteria_one & criteria_two]"
   ]
  },
  {
   "cell_type": "markdown",
   "metadata": {},
   "source": [
    "Alignment\n",
    "\n",
    "One of pandas' core tenets is data alignment. Series objects align along indices, and DataFrame objects align along both indices and columns. With Series objects, pandas implicitly preserves the link between the index labels and the values across operations and transformations, unless we explicitly break it. With DataFrame objects, the values link to the index labels and the column labels. Pandas also preserves these links, unless we explicitly break them (by reassigning or editing a column or index label, for example).\n",
    "\n",
    "This core tenet allows us to use pandas effectively when working with data, and offers a big advantage over using NumPy objects. For Series objects in particular, this means we can use the standard Python arithmetic operators (+, -, *, and /) to add, subtract, multiply, and divide the values at each index label for two different Series objects.\n",
    "\n",
    "Let's use this functionality to calculate the mean ratings from both critics and users on Rotten Tomatoes."
   ]
  },
  {
   "cell_type": "code",
   "execution_count": 20,
   "metadata": {
    "collapsed": false
   },
   "outputs": [
    {
     "name": "stdout",
     "output_type": "stream",
     "text": [
      "FILM\n",
      "Avengers: Age of Ultron (2015)    80.0\n",
      "Cinderella (2015)                 82.5\n",
      "Ant-Man (2015)                    85.0\n",
      "Do You Believe? (2015)            51.0\n",
      "Hot Tub Time Machine 2 (2015)     21.0\n",
      "The Water Diviner (2015)          62.5\n",
      "Irrational Man (2015)             47.5\n",
      "Top Five (2014)                   75.0\n",
      "Shaun the Sheep Movie (2015)      90.5\n",
      "Love & Mercy (2015)               88.0\n",
      "dtype: float64\n"
     ]
    }
   ],
   "source": [
    "rt_critics = Series(fandango['RottenTomatoes'].values, index=fandango['FILM'])\n",
    "rt_users = Series(fandango['RottenTomatoes_User'].values, index=fandango['FILM'])\n",
    "rt_mean = (rt_critics + rt_users)/2\n",
    "\n",
    "print(rt_mean.head(10))"
   ]
  },
  {
   "cell_type": "markdown",
   "metadata": {},
   "source": [
    "Pandas Internals: Dataframes"
   ]
  },
  {
   "cell_type": "markdown",
   "metadata": {},
   "source": [
    "Shared Indexes\n",
    "\n",
    "Dataframe objects can easily query and interact with many columns. They represent each of these columns as a Series object. We discussed how Series objects work in the previous mission. In this mission, we'll learn how dataframes build on Series objects to provide a powerful data analysis toolkit.\n",
    "\n",
    "Series objects maintain data alignment between values and their index labels. Because dataframes are basically collections of Series objects, they maintain alignment along both columns and rows.\n",
    "\n",
    "Pandas dataframe share a row index across columns. By default, this is an integer index. Pandas enforces this shared row index by throwing an error if we read in a CSV file with columns that contain a different number of elements.\n",
    "\n",
    "Whenever you call a method that returns or prints a dataframe, the index values (such as a sequence of integers) appear in the leftmost column. You can also use the index attribute to access the index values directly. "
   ]
  },
  {
   "cell_type": "markdown",
   "metadata": {},
   "source": [
    "Using Integer Indexes to Select Rows\n",
    "\n",
    "In the previous cell, we explored the default integer index that pandas uses for the dataframe. With Series, each unique index value refers to a data value. With dataframes, however, each index value refers to an entire row. We can use the integer index to select rows in a few different ways:\n",
    "\n",
    "fandango[0:5] #first five rows\n",
    "fandango[140:]#From row at 140 and higher\n",
    "fandango.iloc[50]# Just row at index 50\n",
    "fandango.iloc[[45,90]]# Just row at index 45 and 90\n",
    "\n",
    "We use bracket notation to select a slice (continuous sequence) of rows, just as we would for a list. To select an individual row, however, we'll need to use the iloc[] method. This method accepts the following objects for selection:\n",
    "\n",
    "    An integer\n",
    "    A list of integers\n",
    "    A slice object\n",
    "    A Boolean array\n",
    "\n",
    "When selecting an individual row, pandas will return a Series object. When selecting multiple rows, it will return a subset of the original dataframe as a new dataframe.\n",
    "first_last=fandango.iloc[[0,fandango.shape[0]-1]]"
   ]
  },
  {
   "cell_type": "markdown",
   "metadata": {},
   "source": [
    "Using Custom Indexes\n",
    "\n",
    "The dataframe object has a set_index() method that allows us to pass in the name of the column we want pandas to use as the Dataframe index. By default, pandas will create a new dataframe, index it by the values in the column we specify, then drop that column. The set_index() method has a few parameters that allow us to tweak this behavior:\n",
    "\n",
    "    inplace: If set to True, this parameter will set the index for the current, \"live\" dataframe, instead of returning a new dataframe.\n",
    "    drop: If set to False, this parameter will keep the column we specified as the index, instead of dropping it.\n"
   ]
  },
  {
   "cell_type": "code",
   "execution_count": 21,
   "metadata": {
    "collapsed": false
   },
   "outputs": [
    {
     "name": "stdout",
     "output_type": "stream",
     "text": [
      "Index([u'Avengers: Age of Ultron (2015)', u'Cinderella (2015)',\n",
      "       u'Ant-Man (2015)', u'Do You Believe? (2015)',\n",
      "       u'Hot Tub Time Machine 2 (2015)', u'The Water Diviner (2015)',\n",
      "       u'Irrational Man (2015)', u'Top Five (2014)',\n",
      "       u'Shaun the Sheep Movie (2015)', u'Love & Mercy (2015)',\n",
      "       ...\n",
      "       u'The Woman In Black 2 Angel of Death (2015)', u'Danny Collins (2015)',\n",
      "       u'Spare Parts (2015)', u'Serena (2015)', u'Inside Out (2015)',\n",
      "       u'Mr. Holmes (2015)', u''71 (2015)', u'Two Days, One Night (2014)',\n",
      "       u'Gett: The Trial of Viviane Amsalem (2015)',\n",
      "       u'Kumiko, The Treasure Hunter (2015)'],\n",
      "      dtype='object', name=u'FILM', length=146)\n"
     ]
    }
   ],
   "source": [
    "fandango = pd.read_csv('fandango_score_comparison.csv')\n",
    "fandango_films=fandango.set_index('FILM',drop=False)\n",
    "print(fandango_films.index)"
   ]
  },
  {
   "cell_type": "markdown",
   "metadata": {},
   "source": [
    "Using a Custom Index for Selection\n",
    "\n",
    "Now that we have a custom index, we can select a row by film name instead of row number (which is the default integer index). We can select rows using the custom index by either:\n",
    "\n",
    "    Using the loc[] method (the same way we would the iloc[] method)\n",
    "    Creating a slice using bracket notation\n",
    "\n"
   ]
  },
  {
   "cell_type": "code",
   "execution_count": 23,
   "metadata": {
    "collapsed": false
   },
   "outputs": [
    {
     "data": {
      "text/html": [
       "<div>\n",
       "<table border=\"1\" class=\"dataframe\">\n",
       "  <thead>\n",
       "    <tr style=\"text-align: right;\">\n",
       "      <th></th>\n",
       "      <th>FILM</th>\n",
       "      <th>RottenTomatoes</th>\n",
       "      <th>RottenTomatoes_User</th>\n",
       "      <th>Metacritic</th>\n",
       "      <th>Metacritic_User</th>\n",
       "      <th>IMDB</th>\n",
       "      <th>Fandango_Stars</th>\n",
       "      <th>Fandango_Ratingvalue</th>\n",
       "      <th>RT_norm</th>\n",
       "      <th>RT_user_norm</th>\n",
       "      <th>...</th>\n",
       "      <th>IMDB_norm</th>\n",
       "      <th>RT_norm_round</th>\n",
       "      <th>RT_user_norm_round</th>\n",
       "      <th>Metacritic_norm_round</th>\n",
       "      <th>Metacritic_user_norm_round</th>\n",
       "      <th>IMDB_norm_round</th>\n",
       "      <th>Metacritic_user_vote_count</th>\n",
       "      <th>IMDB_user_vote_count</th>\n",
       "      <th>Fandango_votes</th>\n",
       "      <th>Fandango_Difference</th>\n",
       "    </tr>\n",
       "    <tr>\n",
       "      <th>FILM</th>\n",
       "      <th></th>\n",
       "      <th></th>\n",
       "      <th></th>\n",
       "      <th></th>\n",
       "      <th></th>\n",
       "      <th></th>\n",
       "      <th></th>\n",
       "      <th></th>\n",
       "      <th></th>\n",
       "      <th></th>\n",
       "      <th></th>\n",
       "      <th></th>\n",
       "      <th></th>\n",
       "      <th></th>\n",
       "      <th></th>\n",
       "      <th></th>\n",
       "      <th></th>\n",
       "      <th></th>\n",
       "      <th></th>\n",
       "      <th></th>\n",
       "      <th></th>\n",
       "    </tr>\n",
       "  </thead>\n",
       "  <tbody>\n",
       "    <tr>\n",
       "      <th>The Lazarus Effect (2015)</th>\n",
       "      <td>The Lazarus Effect (2015)</td>\n",
       "      <td>14</td>\n",
       "      <td>23</td>\n",
       "      <td>31</td>\n",
       "      <td>4.9</td>\n",
       "      <td>5.2</td>\n",
       "      <td>3.0</td>\n",
       "      <td>3.0</td>\n",
       "      <td>0.70</td>\n",
       "      <td>1.15</td>\n",
       "      <td>...</td>\n",
       "      <td>2.6</td>\n",
       "      <td>0.5</td>\n",
       "      <td>1.0</td>\n",
       "      <td>1.5</td>\n",
       "      <td>2.5</td>\n",
       "      <td>2.5</td>\n",
       "      <td>62</td>\n",
       "      <td>17691</td>\n",
       "      <td>1651</td>\n",
       "      <td>0.0</td>\n",
       "    </tr>\n",
       "    <tr>\n",
       "      <th>Gett: The Trial of Viviane Amsalem (2015)</th>\n",
       "      <td>Gett: The Trial of Viviane Amsalem (2015)</td>\n",
       "      <td>100</td>\n",
       "      <td>81</td>\n",
       "      <td>90</td>\n",
       "      <td>7.3</td>\n",
       "      <td>7.8</td>\n",
       "      <td>3.5</td>\n",
       "      <td>3.5</td>\n",
       "      <td>5.00</td>\n",
       "      <td>4.05</td>\n",
       "      <td>...</td>\n",
       "      <td>3.9</td>\n",
       "      <td>5.0</td>\n",
       "      <td>4.0</td>\n",
       "      <td>4.5</td>\n",
       "      <td>3.5</td>\n",
       "      <td>4.0</td>\n",
       "      <td>19</td>\n",
       "      <td>1955</td>\n",
       "      <td>59</td>\n",
       "      <td>0.0</td>\n",
       "    </tr>\n",
       "    <tr>\n",
       "      <th>Mr. Holmes (2015)</th>\n",
       "      <td>Mr. Holmes (2015)</td>\n",
       "      <td>87</td>\n",
       "      <td>78</td>\n",
       "      <td>67</td>\n",
       "      <td>7.9</td>\n",
       "      <td>7.4</td>\n",
       "      <td>4.0</td>\n",
       "      <td>4.0</td>\n",
       "      <td>4.35</td>\n",
       "      <td>3.90</td>\n",
       "      <td>...</td>\n",
       "      <td>3.7</td>\n",
       "      <td>4.5</td>\n",
       "      <td>4.0</td>\n",
       "      <td>3.5</td>\n",
       "      <td>4.0</td>\n",
       "      <td>3.5</td>\n",
       "      <td>33</td>\n",
       "      <td>7367</td>\n",
       "      <td>1348</td>\n",
       "      <td>0.0</td>\n",
       "    </tr>\n",
       "  </tbody>\n",
       "</table>\n",
       "<p>3 rows × 22 columns</p>\n",
       "</div>"
      ],
      "text/plain": [
       "                                                                                FILM  \\\n",
       "FILM                                                                                   \n",
       "The Lazarus Effect (2015)                                  The Lazarus Effect (2015)   \n",
       "Gett: The Trial of Viviane Amsalem (2015)  Gett: The Trial of Viviane Amsalem (2015)   \n",
       "Mr. Holmes (2015)                                                  Mr. Holmes (2015)   \n",
       "\n",
       "                                           RottenTomatoes  \\\n",
       "FILM                                                        \n",
       "The Lazarus Effect (2015)                              14   \n",
       "Gett: The Trial of Viviane Amsalem (2015)             100   \n",
       "Mr. Holmes (2015)                                      87   \n",
       "\n",
       "                                           RottenTomatoes_User  Metacritic  \\\n",
       "FILM                                                                         \n",
       "The Lazarus Effect (2015)                                   23          31   \n",
       "Gett: The Trial of Viviane Amsalem (2015)                   81          90   \n",
       "Mr. Holmes (2015)                                           78          67   \n",
       "\n",
       "                                           Metacritic_User  IMDB  \\\n",
       "FILM                                                               \n",
       "The Lazarus Effect (2015)                              4.9   5.2   \n",
       "Gett: The Trial of Viviane Amsalem (2015)              7.3   7.8   \n",
       "Mr. Holmes (2015)                                      7.9   7.4   \n",
       "\n",
       "                                           Fandango_Stars  \\\n",
       "FILM                                                        \n",
       "The Lazarus Effect (2015)                             3.0   \n",
       "Gett: The Trial of Viviane Amsalem (2015)             3.5   \n",
       "Mr. Holmes (2015)                                     4.0   \n",
       "\n",
       "                                           Fandango_Ratingvalue  RT_norm  \\\n",
       "FILM                                                                       \n",
       "The Lazarus Effect (2015)                                   3.0     0.70   \n",
       "Gett: The Trial of Viviane Amsalem (2015)                   3.5     5.00   \n",
       "Mr. Holmes (2015)                                           4.0     4.35   \n",
       "\n",
       "                                           RT_user_norm         ...           \\\n",
       "FILM                                                            ...            \n",
       "The Lazarus Effect (2015)                          1.15         ...            \n",
       "Gett: The Trial of Viviane Amsalem (2015)          4.05         ...            \n",
       "Mr. Holmes (2015)                                  3.90         ...            \n",
       "\n",
       "                                           IMDB_norm  RT_norm_round  \\\n",
       "FILM                                                                  \n",
       "The Lazarus Effect (2015)                        2.6            0.5   \n",
       "Gett: The Trial of Viviane Amsalem (2015)        3.9            5.0   \n",
       "Mr. Holmes (2015)                                3.7            4.5   \n",
       "\n",
       "                                           RT_user_norm_round  \\\n",
       "FILM                                                            \n",
       "The Lazarus Effect (2015)                                 1.0   \n",
       "Gett: The Trial of Viviane Amsalem (2015)                 4.0   \n",
       "Mr. Holmes (2015)                                         4.0   \n",
       "\n",
       "                                           Metacritic_norm_round  \\\n",
       "FILM                                                               \n",
       "The Lazarus Effect (2015)                                    1.5   \n",
       "Gett: The Trial of Viviane Amsalem (2015)                    4.5   \n",
       "Mr. Holmes (2015)                                            3.5   \n",
       "\n",
       "                                           Metacritic_user_norm_round  \\\n",
       "FILM                                                                    \n",
       "The Lazarus Effect (2015)                                         2.5   \n",
       "Gett: The Trial of Viviane Amsalem (2015)                         3.5   \n",
       "Mr. Holmes (2015)                                                 4.0   \n",
       "\n",
       "                                           IMDB_norm_round  \\\n",
       "FILM                                                         \n",
       "The Lazarus Effect (2015)                              2.5   \n",
       "Gett: The Trial of Viviane Amsalem (2015)              4.0   \n",
       "Mr. Holmes (2015)                                      3.5   \n",
       "\n",
       "                                           Metacritic_user_vote_count  \\\n",
       "FILM                                                                    \n",
       "The Lazarus Effect (2015)                                          62   \n",
       "Gett: The Trial of Viviane Amsalem (2015)                          19   \n",
       "Mr. Holmes (2015)                                                  33   \n",
       "\n",
       "                                           IMDB_user_vote_count  \\\n",
       "FILM                                                              \n",
       "The Lazarus Effect (2015)                                 17691   \n",
       "Gett: The Trial of Viviane Amsalem (2015)                  1955   \n",
       "Mr. Holmes (2015)                                          7367   \n",
       "\n",
       "                                           Fandango_votes  Fandango_Difference  \n",
       "FILM                                                                            \n",
       "The Lazarus Effect (2015)                            1651                  0.0  \n",
       "Gett: The Trial of Viviane Amsalem (2015)              59                  0.0  \n",
       "Mr. Holmes (2015)                                    1348                  0.0  \n",
       "\n",
       "[3 rows x 22 columns]"
      ]
     },
     "execution_count": 23,
     "metadata": {},
     "output_type": "execute_result"
    }
   ],
   "source": [
    "best_movies=[\"The Lazarus Effect (2015)\",\"Gett: The Trial of Viviane Amsalem (2015)\",\"Mr. Holmes (2015)\"]\n",
    "best_movies_ever=fandango_films.loc[best_movies]\n",
    "best_movies_ever"
   ]
  },
  {
   "cell_type": "markdown",
   "metadata": {},
   "source": [
    "Apply() Logic Over the Columns in a Dataframe\n",
    "\n",
    "Recall that a dataframe object represents both rows and columns as Series objects. The apply() method in pandas allows us to specify Python logic that we want to evaluate over the Series objects in a dataframe. Here are some examples of what we can accomplish using the apply() method:\n",
    "\n",
    "    Calculate the standard deviations for each numeric column\n",
    "    Lowercase all film names in the FILM column\n",
    "\n",
    "The apply() method requires us to pass in the vectorized operation we want to apply over each Series object. The method runs over the dataframe's columns by default, but we can use the axis parameter to change this (which we'll do later). If the vectorized operation usually returns a single value (such as the NumPy std() function), it will return a Series object containing the computed value for each column. If it usually returns a value for each element (such as multiplying or dividing by 2), it will transform all of the values and return them as a dataframe.\n",
    "\n",
    "In the following code cell, we select only the float columns, and assign the dataframe containing them to float_df. Then, we pass in the NumPy function std() as a lambda function to the dataframe method apply() in order to calculate the standard deviation of each column. Under the hood, pandas uses vectorized operations to apply the NumPy function for each iteration of the apply() method. It then returns a final Series object containing the standard deviations for each column (i.e., the film ratings)."
   ]
  },
  {
   "cell_type": "code",
   "execution_count": 24,
   "metadata": {
    "collapsed": false
   },
   "outputs": [
    {
     "name": "stdout",
     "output_type": "stream",
     "text": [
      "Metacritic_User               1.505529\n",
      "IMDB                          0.955447\n",
      "Fandango_Stars                0.538532\n",
      "Fandango_Ratingvalue          0.501106\n",
      "RT_norm                       1.503265\n",
      "RT_user_norm                  0.997787\n",
      "Metacritic_norm               0.972522\n",
      "Metacritic_user_nom           0.752765\n",
      "IMDB_norm                     0.477723\n",
      "RT_norm_round                 1.509404\n",
      "RT_user_norm_round            1.003559\n",
      "Metacritic_norm_round         0.987561\n",
      "Metacritic_user_norm_round    0.785412\n",
      "IMDB_norm_round               0.501043\n",
      "Fandango_Difference           0.152141\n",
      "dtype: float64\n"
     ]
    }
   ],
   "source": [
    "import numpy as np\n",
    "\n",
    "# returns the data types as a Series\n",
    "types = fandango_films.dtypes\n",
    "# filter data types to just floats, index attributes returns just column names\n",
    "float_columns = types[types.values == 'float64'].index\n",
    "# use bracket notation to filter columns to just float columns\n",
    "float_df = fandango_films[float_columns]\n",
    "# `x` is a Series object representing a column\n",
    "deviations = float_df.apply(lambda x: np.std(x))\n",
    "\n",
    "print(deviations)"
   ]
  },
  {
   "cell_type": "code",
   "execution_count": 25,
   "metadata": {
    "collapsed": false
   },
   "outputs": [
    {
     "name": "stdout",
     "output_type": "stream",
     "text": [
      "FILM\n",
      "Avengers: Age of Ultron (2015)    0.375\n",
      "Cinderella (2015)                 0.125\n",
      "Ant-Man (2015)                    0.225\n",
      "Do You Believe? (2015)            0.925\n",
      "Hot Tub Time Machine 2 (2015)     0.150\n",
      "dtype: float64\n",
      "FILM\n",
      "Avengers: Age of Ultron (2015)    3.925\n",
      "Cinderella (2015)                 3.875\n",
      "Ant-Man (2015)                    4.275\n",
      "Do You Believe? (2015)            3.275\n",
      "Hot Tub Time Machine 2 (2015)     1.550\n",
      "dtype: float64\n"
     ]
    }
   ],
   "source": [
    "#giving axis=1 , we will apply across rows\n",
    "rt_mt_user = float_df[['RT_user_norm', 'Metacritic_user_nom']]\n",
    "rt_mt_deviations = rt_mt_user.apply(lambda x: np.std(x), axis=1)\n",
    "print(rt_mt_deviations[0:5])\n",
    "rt_mt_user2=float_df[['RT_user_norm','Metacritic_user_nom']]\n",
    "rt_mt_means=rt_mt_user2.apply(lambda x:np.mean(x),axis=1)\n",
    "print(rt_mt_means[0:5])"
   ]
  }
 ],
 "metadata": {
  "anaconda-cloud": {},
  "kernelspec": {
   "display_name": "Python [default]",
   "language": "python",
   "name": "python2"
  },
  "language_info": {
   "codemirror_mode": {
    "name": "ipython",
    "version": 2
   },
   "file_extension": ".py",
   "mimetype": "text/x-python",
   "name": "python",
   "nbconvert_exporter": "python",
   "pygments_lexer": "ipython2",
   "version": "2.7.12"
  }
 },
 "nbformat": 4,
 "nbformat_minor": 1
}
